{
 "cells": [
  {
   "cell_type": "code",
   "execution_count": 1,
   "metadata": {},
   "outputs": [
    {
     "name": "stderr",
     "output_type": "stream",
     "text": [
      "No handlers could be found for logger \"cobra.io.sbml\"\n",
      "cobra\\core\\reaction.py:437 UserWarning: uppercase AND/OR found in rule 'CAC0368 AND CAC1427' for '<Reaction R0095 at 0x18635b70>'\n"
     ]
    }
   ],
   "source": [
    "import numpy as np\n",
    "from scipy.integrate import odeint\n",
    "import cobra\n",
    "import os\n",
    "from os.path import join\n",
    "data_dir=\".\"\n",
    "model=cobra.io.read_sbml_model(\"iCac802.xml\")\n",
    "import matplotlib.pyplot as plt"
   ]
  },
  {
   "cell_type": "code",
   "execution_count": 2,
   "metadata": {},
   "outputs": [
    {
     "name": "stdout",
     "output_type": "stream",
     "text": [
      "IN FLUXES            OUT FLUXES             OBJECTIVES\n",
      "-------------------  ---------------------  -------------\n",
      "cpd00027_e  10       cpd11640_e  37.5       Biomass  0.21\n",
      "cpd00067_e  10       cpd00011_e  25.6\n",
      "cpd00001_e   4.05    cpd00178_e   8.65\n",
      "cpd00013_e   2.94    cpd00528_e   0.541\n",
      "cpd00009_e   0.373   cpd00036_e   0.000947\n",
      "cpd00048_e   0.0217\n"
     ]
    }
   ],
   "source": [
    "solution = model.optimize()\n",
    "\n",
    "model.summary()"
   ]
  },
  {
   "cell_type": "code",
   "execution_count": 3,
   "metadata": {},
   "outputs": [],
   "source": [
    "def kineticBlock(Glu,But):\n",
    "    # Parameters\n",
    "    vGmax,vGmax2, K_Glu, Ki, Kii,K_NH4 = 0.26,0.026, 46, 55.6, 67.5, 0.005\n",
    "    f_But,f_Act, f_Bth, f_Acn, F_H2 = .424, .908, .977, .908, 0.098\n",
    "    \n",
    "    v_Glu=vGmax*Glu/(K_Glu+(Glu/Ki)+Glu*(1+(Bth/Kii)))\n",
    "    v_NH4 = vGmax2*(NH4)/(K_NH4  + NH4)\n",
    "    LB_But = -v_Glu*f_But\n",
    "    LB_Act = -v_Glu*f_Act\n",
    "    LB_Bth = -v_Glu*f_Bth\n",
    "    LB_Acn = -v_Glu*f_Acn\n",
    "    LB_H2 = -v_Glu*F_H2\n",
    "    #LB_ATP_Ex = m_ATP\n",
    "    return [v_Glu,v_NH4,LB_But,LB_Act,LB_Bth,LB_Acn,LB_H2]\n",
    "\n",
    "# Metabolic block\n",
    "def metabolicBlock(v_Glu,v_NH4,LB_But,LB_Act,LB_Bth,LB_Acn,LB_H2):\n",
    "    model.reactions.get_by_id(\"Ex_91\").lower_bound = -v_Glu # set flux of glucose\n",
    "    model.reactions.get_by_id(\"Ex_91\").upper_bound = -v_Glu # set flux of glucose\n",
    "    model.reactions.get_by_id(\"Ex_97\").lower_bound = -v_NH4 # set flux of glucose\n",
    "    model.reactions.get_by_id(\"Ex_97\").upper_bound = -v_NH4 # set flux of glucose    \n",
    "    model.reactions.get_by_id(\"Ex_96\").lower_bound = LB_But #Butirato\n",
    "    model.reactions.get_by_id(\"Ex_104\").lower_bound = LB_Act #acetato\n",
    "    model.reactions.get_by_id(\"Ex_113\").lower_bound = LB_Bth #Butanol\n",
    "    model.reactions.get_by_id(\"Ex_110\").lower_bound = LB_Acn #Acetona\n",
    "    model.reactions.get_by_id(\"Ex_116\").lower_bound = LB_H2 #Hidrogeno\n",
    "   \n",
    "    solution = model.optimize()\n",
    "    u = solution.objective_value\n",
    "    v_But = model.reactions.get_by_id(\"Ex_96\").x\n",
    "    v_Act = model.reactions.get_by_id(\"Ex_104\").x\n",
    "    v_Bth = model.reactions.get_by_id(\"Ex_113\").x\n",
    "    v_Acn = model.reactions.get_by_id(\"Ex_110\").x\n",
    "    v_H2 = model.reactions.get_by_id(\"Ex_116\").x\n",
    "    return [u, v_But, v_Act, v_Bth, v_Acn, v_H2]\n",
    "    \n",
    "# Dynamic block\n",
    "def f(y,t,params):\n",
    "    V,VX,VGlu,VNH4,VBut,VAct,VBth,VAcn,VH2 = y # Current values\n",
    "    F,u, v_Glu, v_NH4, v_But, v_Act, v_Bth, v_Acn, v_H2 = params  # unpack parameters\n",
    "    Glu_F = 8\n",
    "    MW_Glu, MW_NH4, MW_But,MW_Act,MW_Bth,MW_Acn, MW_H2 = [0.18,0.096,.046,.060,.072,.090, 0.002] #Molecular weights\n",
    "    derivs=[F,                  # dV/dt\n",
    "            u*VX,                # dVX/dt\n",
    "            F*Glu_F-v_Glu*MW_Glu*(VX), # dVGlu/dt\n",
    "            -v_NH4*MW_NH4*(VX),\n",
    "            v_But*MW_But*(VX), # dVBut/dt\n",
    "            v_Act*MW_Act*(VX), # dVAct/dt\n",
    "            v_Bth*MW_Bth*(VX), # dVBth/dt\n",
    "            v_Acn*MW_Acn*(VX), # dVAcn/dt\n",
    "            v_H2*MW_H2*(VX)] # dVH2/dt\n",
    "    return derivs\n",
    "def dynamicBlock(y,params, ti,tf):\n",
    "    time=np.linspace(ti,tf,100)\n",
    " \n",
    "    soln = odeint(f,y,time,args=(params,))\n",
    "    soln[soln<0] = 0    \n",
    "    V=soln[-1,0]\n",
    "\n",
    "    X,Glu,NH4,But,Act,Bth,Acn,H2=soln[-1,1:9]/V\n",
    "    return [V,X,Glu,NH4,But,Act,Bth,Acn,H2]  \n",
    "\n",
    "\n",
    "\n",
    "\n",
    "u_path,V_path,X_path = [],[],[]\n",
    "Glu_path,NH4_path,But_path,Act_path,Bth_path,Acn_path,H2_path = [],[],[],[],[],[],[]\n",
    "v_Glu_path,v_NH4_path=[],[]\n",
    "def savePath(u,V,X,Glu,NH4,But,Act,Bth,Acn,H2,v_Glu,v_NH4):\n",
    "    global u_path,V_path,X_path\n",
    "    global Glu_path,NH4_path,But_path,Act_path,Bth_path,Acn_path,H2_path\n",
    "    global v_Glu_path,v_NH4_path\n",
    "    u_path += [u]\n",
    "    V_path += [V]\n",
    "    X_path += [X]\n",
    "    Glu_path += [Glu]\n",
    "    NH4_path += [NH4]\n",
    "    But_path += [But]\n",
    "    Act_path += [Act]\n",
    "    Bth_path += [Bth]\n",
    "    Acn_path += [Acn]\n",
    "    H2_path += [H2]\n",
    "    v_Glu_path += [v_Glu]\n",
    "    v_NH4_path += [v_NH4]"
   ]
  },
  {
   "cell_type": "code",
   "execution_count": 4,
   "metadata": {},
   "outputs": [
    {
     "name": "stderr",
     "output_type": "stream",
     "text": [
      "cobra\\util\\solver.py:416 UserWarning: solver status is 'infeasible'\n"
     ]
    }
   ],
   "source": [
    "Glu=60\n",
    "NH4=8\n",
    "But,Act,Bth,Acn,H2=[0,0,0,0,0]\n",
    "V,X=[2,1.5]\n",
    "F=0\n",
    "# Running the simulation over time\n",
    "time=np.linspace(0,250,50)\n",
    "for i in range(len(time)):\n",
    "    \n",
    "    v_Glu,v_NH4,LB_But,LB_Act,LB_Bth,LB_Acn,LB_H2 = kineticBlock(Glu,But)\n",
    "\n",
    "    u,v_But, v_Act, v_Bth, v_Acn, v_H2 = metabolicBlock(v_Glu,v_NH4,LB_But,LB_Act,LB_Bth,LB_Acn,LB_H2)\n",
    " \n",
    "    if i==len(time)-1: continue\n",
    "    y = [V,X*V,Glu*V,NH4*V,But*V,Act*V,Bth*V,Acn*V,H2*V]\n",
    "    params = [F,u,v_Glu,v_NH4, v_But, v_Act, v_Bth, v_Acn,v_H2]\n",
    "    V,X,Glu, NH4,But,Act,Bth,Acn,H2 = dynamicBlock(y, params, time[i],time[i+1])\n",
    "    # Save results along the fermentaion path\n",
    "    savePath(u,V,X,Glu,NH4,But,Act,Bth,Acn,H2,v_Glu, v_H2)"
   ]
  },
  {
   "cell_type": "code",
   "execution_count": 13,
   "metadata": {
    "scrolled": true
   },
   "outputs": [
    {
     "data": {
      "image/png": "[encoded data removed]",
      "text/plain": [
       "<Figure size 432x288 with 1 Axes>"
      ]
     },
     "metadata": {
      "needs_background": "light"
     },
     "output_type": "display_data"
    }
   ],
   "source": [
    "plt.plot(time[1:600],Glu_path,'r',linewidth=2,label='Glucosa')\n",
    "plt.plot(time[1:600],NH4_path,'k',linewidth=2,label='Sulfato')\n",
    "plt.plot(time[1:600],X_path,'b',linewidth=2,label='Biomasa')\n",
    "plt.plot(time[1:600],But_path,'g',linewidth=2,label=\"Butirato\")\n",
    "plt.plot(time[1:600],Act_path,'y',linewidth=2,label='Acetato')\n",
    "plt.plot(time[1:600],Bth_path,'x',linewidth=2,label='Butanol')\n",
    "plt.plot(time[1:600],Acn_path,'p',linewidth=2,label='Acetona')\n",
    "plt.plot(time[1:600],H2_path,'c',linewidth=2,label='H2')\n",
    "plt.ylabel('Biomasa, sustrato & Productos[g/L]')\n",
    "plt.xlabel('Time [h]')\n",
    "plt.show()"
   ]
  },
  {
   "cell_type": "code",
   "execution_count": 6,
   "metadata": {},
   "outputs": [
    {
     "data": {
      "text/plain": [
       "[1.6977356468657856,\n",
       " 1.9211723916041494,\n",
       " 2.173546491516278,\n",
       " 2.458471671877498,\n",
       " 2.7799742918943275,\n",
       " 3.1425290117587004,\n",
       " 3.5510938895154367,\n",
       " 4.01114340495996,\n",
       " 4.528697344611379,\n",
       " 5.11034276147937,\n",
       " 5.763245312110142,\n",
       " 6.495145134702118,\n",
       " 7.314331029412474,\n",
       " 8.229585004374902,\n",
       " 9.250087242907712,\n",
       " 10.385269245664585,\n",
       " 11.64460038262586,\n",
       " 13.037290533868882,\n",
       " 14.571889255498554,\n",
       " 16.25576059806332,\n",
       " 18.094413358681766,\n",
       " 20.090670778612644,\n",
       " 22.24367392708496,\n",
       " 24.547732592304815,\n",
       " 26.99107068944321,\n",
       " 29.554564492846406,\n",
       " 32.21064427200764,\n",
       " 34.92262033528188,\n",
       " 37.644787453835825,\n",
       " 40.32371957479313,\n",
       " 42.901122835336565,\n",
       " 45.31838582024702,\n",
       " 47.52249325282306,\n",
       " 49.47232824770374,\n",
       " 51.14382679306386,\n",
       " 51.14382679306386,\n",
       " 51.14382679306386,\n",
       " 51.14382679306386,\n",
       " 51.14382679306386,\n",
       " 51.14382679306386,\n",
       " 51.14382679306386,\n",
       " 51.14382679306386,\n",
       " 51.14382679306386,\n",
       " 51.14382679306386,\n",
       " 51.14382679306386,\n",
       " 51.14382679306386,\n",
       " 51.14382679306386,\n",
       " 51.14382679306386,\n",
       " 51.14382679306386]"
      ]
     },
     "execution_count": 6,
     "metadata": {},
     "output_type": "execute_result"
    }
   ],
   "source": [
    "X_path"
   ]
  },
  {
   "cell_type": "code",
   "execution_count": 7,
   "metadata": {},
   "outputs": [
    {
     "data": {
      "text/plain": [
       "[0.08551758267731155,\n",
       " 0.18229587469828887,\n",
       " 0.29179492498976395,\n",
       " 0.4156576001984444,\n",
       " 0.5557306011774367,\n",
       " 0.7140873440416444,\n",
       " 0.8930526932664891,\n",
       " 1.0952294651153984,\n",
       " 1.323526521395215,\n",
       " 1.5811881402607524,\n",
       " 1.8718241730978293,\n",
       " 2.1994402631122,\n",
       " 2.5684670989183505,\n",
       " 2.983787290197772,\n",
       " 3.4507579663129584,\n",
       " 3.9752265968277687,\n",
       " 4.563536802316967,\n",
       " 5.222520059320122,\n",
       " 5.959468214775475,\n",
       " 6.782080650434939,\n",
       " 7.698378861295687,\n",
       " 8.716580290484634,\n",
       " 9.844922772704862,\n",
       " 11.091431306046967,\n",
       " 12.463620740262801,\n",
       " 13.968132213339214,\n",
       " 15.610308844990419,\n",
       " 17.39372832139987,\n",
       " 19.319726991960437,\n",
       " 21.386970893299623,\n",
       " 23.59114921971663,\n",
       " 25.924877670082264,\n",
       " 28.377888094037658,\n",
       " 30.93754534852542,\n",
       " 33.58965459989107,\n",
       " 36.27031888170562,\n",
       " 38.95101195997651,\n",
       " 41.63172900695366,\n",
       " 44.31246552143739,\n",
       " 46.99321751680138,\n",
       " 49.67398160742069,\n",
       " 52.354755013581226,\n",
       " 55.035535513200855,\n",
       " 57.71632136653181,\n",
       " 60.397111233068074,\n",
       " 63.077904092409554,\n",
       " 65.75869917491255,\n",
       " 68.43949590404263,\n",
       " 71.12029385012843]"
      ]
     },
     "execution_count": 7,
     "metadata": {},
     "output_type": "execute_result"
    }
   ],
   "source": [
    "H2_path"
   ]
  },
  {
   "cell_type": "code",
   "execution_count": 8,
   "metadata": {},
   "outputs": [
    {
     "data": {
      "text/plain": [
       "matrix([[ 1, -2],\n",
       "        [ 3, -1]])"
      ]
     },
     "execution_count": 8,
     "metadata": {},
     "output_type": "execute_result"
    }
   ],
   "source": [
    "vv=np.matrix([[1,-2],[3,-1]])\n",
    "vv"
   ]
  },
  {
   "cell_type": "code",
   "execution_count": 9,
   "metadata": {},
   "outputs": [
    {
     "data": {
      "text/plain": [
       "matrix([[1, 0],\n",
       "        [3, 0]])"
      ]
     },
     "execution_count": 9,
     "metadata": {},
     "output_type": "execute_result"
    }
   ],
   "source": [
    "vv[vv<0]=0\n",
    "vv"
   ]
  },
  {
   "cell_type": "code",
   "execution_count": 10,
   "metadata": {},
   "outputs": [
    {
     "data": {
      "text/plain": [
       "[0.0, 0.0, 0.0, 0.0, 0.0, 0.0, 0.0, 0.0, 0.0, 0.0, 0.0, 0.0, 0.0, 0.0, 0.0]"
      ]
     },
     "execution_count": 10,
     "metadata": {},
     "output_type": "execute_result"
    }
   ],
   "source": [
    "NH4_path[-15:]"
   ]
  },
  {
   "cell_type": "code",
   "execution_count": 11,
   "metadata": {},
   "outputs": [
    {
     "data": {
      "text/plain": [
       "[7.979677588936227,\n",
       " 7.956678467886397,\n",
       " 7.930655374285106,\n",
       " 7.90121750483133,\n",
       " 7.867925492699513,\n",
       " 7.830285933606117,\n",
       " 7.787745461515535,\n",
       " 7.73968439064478,\n",
       " 7.685409963084782,\n",
       " 7.6241492721753845,\n",
       " 7.555041972968785,\n",
       " 7.477132945359967,\n",
       " 7.3893651458908876,\n",
       " 7.290572974423474,\n",
       " 7.179476595710259,\n",
       " 7.054677797268691,\n",
       " 6.914658137223119,\n",
       " 6.757780340670883,\n",
       " 6.5822941391098055,\n",
       " 6.386348006916934,\n",
       " 6.168008513774762,\n",
       " 5.925289248329096,\n",
       " 5.6561914152879,\n",
       " 5.35875817091843,\n",
       " 5.031144396713682,\n",
       " 4.671702721118132,\n",
       " 4.279084946247597,\n",
       " 3.8523553948474203,\n",
       " 3.3911089942575394,\n",
       " 2.895582509599556,\n",
       " 2.3667437107866403,\n",
       " 1.8063439463501092,\n",
       " 1.2169363876837154,\n",
       " 0.6019466745358935,\n",
       " 0.0,\n",
       " 0.0,\n",
       " 0.0,\n",
       " 0.0,\n",
       " 0.0,\n",
       " 0.0,\n",
       " 0.0,\n",
       " 0.0,\n",
       " 0.0,\n",
       " 0.0,\n",
       " 0.0,\n",
       " 0.0,\n",
       " 0.0,\n",
       " 0.0,\n",
       " 0.0]"
      ]
     },
     "execution_count": 11,
     "metadata": {},
     "output_type": "execute_result"
    }
   ],
   "source": [
    "NH4_path"
   ]
  },
  {
   "cell_type": "code",
   "execution_count": null,
   "metadata": {},
   "outputs": [],
   "source": []
  },
  {
   "cell_type": "code",
   "execution_count": null,
   "metadata": {},
   "outputs": [],
   "source": []
  }
 ],
 "metadata": {
  "kernelspec": {
   "display_name": "Python 2",
   "language": "python",
   "name": "python2"
  },
  "language_info": {
   "codemirror_mode": {
    "name": "ipython",
    "version": 2
   },
   "file_extension": ".py",
   "mimetype": "text/x-python",
   "name": "python",
   "nbconvert_exporter": "python",
   "pygments_lexer": "ipython2",
   "version": "2.7.16"
  }
 },
 "nbformat": 4,
 "nbformat_minor": 2
}
