{
 "cells": [
  {
   "cell_type": "code",
   "execution_count": 1,
   "metadata": {},
   "outputs": [],
   "source": [
    "import cobra\n",
    "model= cobra.io.load_matlab_model(\n",
    "    \"12934_2013_907_MOESM6_ESM\")"
   ]
  },
  {
   "cell_type": "code",
   "execution_count": 2,
   "metadata": {},
   "outputs": [
    {
     "data": {
      "text/html": [
       "\n",
       "        <table>\n",
       "            <tr>\n",
       "                <td><strong>Name</strong></td>\n",
       "                <td>CL_Auto</td>\n",
       "            </tr><tr>\n",
       "                <td><strong>Memory address</strong></td>\n",
       "                <td>0x04df4710</td>\n",
       "            </tr><tr>\n",
       "                <td><strong>Number of metabolites</strong></td>\n",
       "                <td>698</td>\n",
       "            </tr><tr>\n",
       "                <td><strong>Number of reactions</strong></td>\n",
       "                <td>785</td>\n",
       "            </tr><tr>\n",
       "                <td><strong>Number of groups</strong></td>\n",
       "                <td>0</td>\n",
       "            </tr><tr>\n",
       "                <td><strong>Objective expression</strong></td>\n",
       "                <td>1.0*Cl_biomass_DSM_WT_46p666M1 - 1.0*Cl_biomass_DSM_WT_46p666M1_reverse_bcddb</td>\n",
       "            </tr><tr>\n",
       "                <td><strong>Compartments</strong></td>\n",
       "                <td>c, e</td>\n",
       "            </tr>\n",
       "          </table>"
      ],
      "text/plain": [
       "<Model CL_Auto at 0x4df4710>"
      ]
     },
     "execution_count": 2,
     "metadata": {},
     "output_type": "execute_result"
    }
   ],
   "source": [
    "model"
   ]
  },
  {
   "cell_type": "code",
   "execution_count": 3,
   "metadata": {},
   "outputs": [
    {
     "name": "stdout",
     "output_type": "stream",
     "text": [
      "IN FLUXES           OUT FLUXES    OBJECTIVES\n",
      "------------------  ------------  ----------------------\n",
      "h2[e]   100         h2o[e]  55    Cl_biomass_D...  0.189\n",
      "co2[e]   48.6       h[e]    21.3\n",
      "nh4[e]    1.43      ac[e]   20.2\n",
      "pi[e]     0.218\n",
      "k[e]      0.036\n",
      "so4[e]    0.0356\n",
      "fe2[e]    0.00261\n",
      "mg2[e]    0.0016\n",
      "ca2[e]    0.000961\n",
      "cl[e]     0.000961\n",
      "fol[e]    0.000168\n",
      "cu2[e]    0.000131\n",
      "mn2[e]    0.000128\n"
     ]
    }
   ],
   "source": [
    "solution=model.optimize()\n",
    "model.summary()"
   ]
  },
  {
   "cell_type": "code",
   "execution_count": 4,
   "metadata": {},
   "outputs": [
    {
     "name": "stdout",
     "output_type": "stream",
     "text": [
      "Not found metabolite\n"
     ]
    }
   ],
   "source": [
    "import re\n",
    "\n",
    "def buscarMetabolito(nombreMetabolite):\n",
    "    metabolites=[]\n",
    "    for metabolite in model.metabolites:\n",
    "        if re.match(nombreMetabolite,metabolite.name,re.IGNORECASE):# and re.match(\"_e\",metabolite.name): \n",
    "            metabolites.append(metabolite)\n",
    "    if len(metabolites)==0:\n",
    "        print \"Not found metabolite\"\n",
    "        return None\n",
    "    else: #print \"2 lets find the reactions associated with the name\"\n",
    "        for metabolite in metabolites:\n",
    "            print \"==================================\"\n",
    "            print metabolite.name, metabolite.id\n",
    "            print \"==================================\"\n",
    "            for reaction in model.metabolites.get_by_id(metabolite.id).reactions:\n",
    "                print reaction\n",
    "result=buscarMetabolito(\"something\")"
   ]
  },
  {
   "cell_type": "code",
   "execution_count": 5,
   "metadata": {},
   "outputs": [
    {
     "name": "stdout",
     "output_type": "stream",
     "text": [
      "EX_fru(e): fru[e] --> \n",
      "fru[e] --> \n",
      "D-Fructose exchange\n",
      "(0.0, '< fru <', 1000.0)\n",
      "=======================================================\n",
      "EX_h2(e): h2[e] <=> \n",
      "h2[e] <=> \n",
      "H2 exchange\n",
      "(-100.0, '< h2 <', 1000.0)\n",
      "=======================================================\n",
      "EX_co2(e): co2[e] <=> \n",
      "co2[e] <=> \n",
      "CO2 exchange\n",
      "(-50.0, '< co2 <', 1000.0)\n"
     ]
    }
   ],
   "source": [
    "fru = model.reactions.get_by_id(\"EX_fru(e)\")\n",
    "print fru\n",
    "print fru.reaction\n",
    "print fru.name\n",
    "\n",
    "\n",
    "print(fru.lower_bound, \"< fru <\", fru.upper_bound)\n",
    "\n",
    "print\"=======================================================\"\n",
    "\n",
    "h2 = model.reactions.get_by_id(\"EX_h2(e)\")\n",
    "print h2\n",
    "print h2.reaction\n",
    "print h2.name\n",
    "\n",
    "\n",
    "print(h2.lower_bound, \"< h2 <\", h2.upper_bound)\n",
    "\n",
    "print\"=======================================================\"\n",
    "\n",
    "co2 = model.reactions.get_by_id(\"EX_co2(e)\")\n",
    "print co2\n",
    "print co2.reaction\n",
    "print co2.name\n",
    "\n",
    "\n",
    "print(co2.lower_bound, \"< co2 <\", co2.upper_bound)\n",
    "\n",
    "\n",
    "#para hacer autotrofica este modelo eliminaron o disminuieron a 0 la reaccion original EX_fru_e, crearon una muy parecido con un nuevo nombre\n",
    "#no estoy seguro si primero aumentaron los rango de CO2 y H2 despues atacaron al modelo o alreves"
   ]
  },
  {
   "cell_type": "code",
   "execution_count": 6,
   "metadata": {},
   "outputs": [
    {
     "name": "stdout",
     "output_type": "stream",
     "text": [
      "<Solution 0.189 at 0x14ad64a8>\n",
      "optimal\n",
      "0.188561615722\n"
     ]
    }
   ],
   "source": [
    "print solution\n",
    "print solution.status \n",
    "print solution.objective_value  "
   ]
  },
  {
   "cell_type": "code",
   "execution_count": 7,
   "metadata": {},
   "outputs": [
    {
     "data": {
      "text/html": [
       "<div>\n",
       "<style scoped>\n",
       "    .dataframe tbody tr th:only-of-type {\n",
       "        vertical-align: middle;\n",
       "    }\n",
       "\n",
       "    .dataframe tbody tr th {\n",
       "        vertical-align: top;\n",
       "    }\n",
       "\n",
       "    .dataframe thead th {\n",
       "        text-align: right;\n",
       "    }\n",
       "</style>\n",
       "<table border=\"1\" class=\"dataframe\">\n",
       "  <thead>\n",
       "    <tr style=\"text-align: right;\">\n",
       "      <th></th>\n",
       "      <th>carbon_source</th>\n",
       "      <th>carbon_yield_maximum</th>\n",
       "      <th>carbon_yield_minimum</th>\n",
       "      <th>flux_maximum</th>\n",
       "      <th>flux_minimum</th>\n",
       "      <th>mass_yield_maximum</th>\n",
       "      <th>mass_yield_minimum</th>\n",
       "      <th>EX_co2(e)</th>\n",
       "      <th>EX_h2(e)</th>\n",
       "    </tr>\n",
       "  </thead>\n",
       "  <tbody>\n",
       "    <tr>\n",
       "      <th>0</th>\n",
       "      <td>EX_btn(e), EX_thm(e), EX_fol(e), EX_ribflv(e),...</td>\n",
       "      <td>1.603825</td>\n",
       "      <td>0.0</td>\n",
       "      <td>0.157355</td>\n",
       "      <td>0.0</td>\n",
       "      <td>NaN</td>\n",
       "      <td>NaN</td>\n",
       "      <td>-50.0</td>\n",
       "      <td>-100.000000</td>\n",
       "    </tr>\n",
       "    <tr>\n",
       "      <th>1</th>\n",
       "      <td>EX_btn(e), EX_thm(e), EX_fol(e), EX_ribflv(e),...</td>\n",
       "      <td>0.928564</td>\n",
       "      <td>0.0</td>\n",
       "      <td>0.091100</td>\n",
       "      <td>0.0</td>\n",
       "      <td>NaN</td>\n",
       "      <td>NaN</td>\n",
       "      <td>-50.0</td>\n",
       "      <td>-94.863158</td>\n",
       "    </tr>\n",
       "    <tr>\n",
       "      <th>2</th>\n",
       "      <td>EX_btn(e), EX_thm(e), EX_fol(e), EX_ribflv(e),...</td>\n",
       "      <td>0.253254</td>\n",
       "      <td>0.0</td>\n",
       "      <td>0.024846</td>\n",
       "      <td>0.0</td>\n",
       "      <td>NaN</td>\n",
       "      <td>NaN</td>\n",
       "      <td>-50.0</td>\n",
       "      <td>-89.726316</td>\n",
       "    </tr>\n",
       "    <tr>\n",
       "      <th>3</th>\n",
       "      <td>EX_btn(e), EX_thm(e), EX_fol(e), EX_ribflv(e),...</td>\n",
       "      <td>NaN</td>\n",
       "      <td>NaN</td>\n",
       "      <td>NaN</td>\n",
       "      <td>NaN</td>\n",
       "      <td>NaN</td>\n",
       "      <td>NaN</td>\n",
       "      <td>-50.0</td>\n",
       "      <td>-84.589474</td>\n",
       "    </tr>\n",
       "    <tr>\n",
       "      <th>4</th>\n",
       "      <td>EX_btn(e), EX_thm(e), EX_fol(e), EX_ribflv(e),...</td>\n",
       "      <td>NaN</td>\n",
       "      <td>NaN</td>\n",
       "      <td>NaN</td>\n",
       "      <td>NaN</td>\n",
       "      <td>NaN</td>\n",
       "      <td>NaN</td>\n",
       "      <td>-50.0</td>\n",
       "      <td>-79.452632</td>\n",
       "    </tr>\n",
       "    <tr>\n",
       "      <th>5</th>\n",
       "      <td>EX_btn(e), EX_thm(e), EX_fol(e), EX_ribflv(e),...</td>\n",
       "      <td>NaN</td>\n",
       "      <td>NaN</td>\n",
       "      <td>NaN</td>\n",
       "      <td>NaN</td>\n",
       "      <td>NaN</td>\n",
       "      <td>NaN</td>\n",
       "      <td>-50.0</td>\n",
       "      <td>-74.315789</td>\n",
       "    </tr>\n",
       "    <tr>\n",
       "      <th>6</th>\n",
       "      <td>EX_btn(e), EX_thm(e), EX_fol(e), EX_ribflv(e),...</td>\n",
       "      <td>NaN</td>\n",
       "      <td>NaN</td>\n",
       "      <td>NaN</td>\n",
       "      <td>NaN</td>\n",
       "      <td>NaN</td>\n",
       "      <td>NaN</td>\n",
       "      <td>-50.0</td>\n",
       "      <td>-69.178947</td>\n",
       "    </tr>\n",
       "    <tr>\n",
       "      <th>7</th>\n",
       "      <td>EX_btn(e), EX_thm(e), EX_fol(e), EX_ribflv(e),...</td>\n",
       "      <td>NaN</td>\n",
       "      <td>NaN</td>\n",
       "      <td>NaN</td>\n",
       "      <td>NaN</td>\n",
       "      <td>NaN</td>\n",
       "      <td>NaN</td>\n",
       "      <td>-50.0</td>\n",
       "      <td>-64.042105</td>\n",
       "    </tr>\n",
       "    <tr>\n",
       "      <th>8</th>\n",
       "      <td>EX_btn(e), EX_thm(e), EX_fol(e), EX_ribflv(e),...</td>\n",
       "      <td>NaN</td>\n",
       "      <td>NaN</td>\n",
       "      <td>NaN</td>\n",
       "      <td>NaN</td>\n",
       "      <td>NaN</td>\n",
       "      <td>NaN</td>\n",
       "      <td>-50.0</td>\n",
       "      <td>-58.905263</td>\n",
       "    </tr>\n",
       "    <tr>\n",
       "      <th>9</th>\n",
       "      <td>EX_btn(e), EX_thm(e), EX_fol(e), EX_ribflv(e),...</td>\n",
       "      <td>NaN</td>\n",
       "      <td>NaN</td>\n",
       "      <td>NaN</td>\n",
       "      <td>NaN</td>\n",
       "      <td>NaN</td>\n",
       "      <td>NaN</td>\n",
       "      <td>-50.0</td>\n",
       "      <td>-53.768421</td>\n",
       "    </tr>\n",
       "    <tr>\n",
       "      <th>10</th>\n",
       "      <td>EX_btn(e), EX_thm(e), EX_fol(e), EX_ribflv(e),...</td>\n",
       "      <td>NaN</td>\n",
       "      <td>NaN</td>\n",
       "      <td>NaN</td>\n",
       "      <td>NaN</td>\n",
       "      <td>NaN</td>\n",
       "      <td>NaN</td>\n",
       "      <td>-50.0</td>\n",
       "      <td>-48.631579</td>\n",
       "    </tr>\n",
       "    <tr>\n",
       "      <th>11</th>\n",
       "      <td>EX_btn(e), EX_thm(e), EX_fol(e), EX_ribflv(e),...</td>\n",
       "      <td>NaN</td>\n",
       "      <td>NaN</td>\n",
       "      <td>NaN</td>\n",
       "      <td>NaN</td>\n",
       "      <td>NaN</td>\n",
       "      <td>NaN</td>\n",
       "      <td>-50.0</td>\n",
       "      <td>-43.494737</td>\n",
       "    </tr>\n",
       "    <tr>\n",
       "      <th>12</th>\n",
       "      <td>EX_btn(e), EX_thm(e), EX_fol(e), EX_ribflv(e),...</td>\n",
       "      <td>NaN</td>\n",
       "      <td>NaN</td>\n",
       "      <td>NaN</td>\n",
       "      <td>NaN</td>\n",
       "      <td>NaN</td>\n",
       "      <td>NaN</td>\n",
       "      <td>-50.0</td>\n",
       "      <td>-38.357895</td>\n",
       "    </tr>\n",
       "    <tr>\n",
       "      <th>13</th>\n",
       "      <td>EX_btn(e), EX_thm(e), EX_fol(e), EX_ribflv(e),...</td>\n",
       "      <td>NaN</td>\n",
       "      <td>NaN</td>\n",
       "      <td>NaN</td>\n",
       "      <td>NaN</td>\n",
       "      <td>NaN</td>\n",
       "      <td>NaN</td>\n",
       "      <td>-50.0</td>\n",
       "      <td>-33.221053</td>\n",
       "    </tr>\n",
       "    <tr>\n",
       "      <th>14</th>\n",
       "      <td>EX_btn(e), EX_thm(e), EX_fol(e), EX_ribflv(e),...</td>\n",
       "      <td>NaN</td>\n",
       "      <td>NaN</td>\n",
       "      <td>NaN</td>\n",
       "      <td>NaN</td>\n",
       "      <td>NaN</td>\n",
       "      <td>NaN</td>\n",
       "      <td>-50.0</td>\n",
       "      <td>-28.084211</td>\n",
       "    </tr>\n",
       "  </tbody>\n",
       "</table>\n",
       "</div>"
      ],
      "text/plain": [
       "                                        carbon_source  carbon_yield_maximum  \\\n",
       "0   EX_btn(e), EX_thm(e), EX_fol(e), EX_ribflv(e),...              1.603825   \n",
       "1   EX_btn(e), EX_thm(e), EX_fol(e), EX_ribflv(e),...              0.928564   \n",
       "2   EX_btn(e), EX_thm(e), EX_fol(e), EX_ribflv(e),...              0.253254   \n",
       "3   EX_btn(e), EX_thm(e), EX_fol(e), EX_ribflv(e),...                   NaN   \n",
       "4   EX_btn(e), EX_thm(e), EX_fol(e), EX_ribflv(e),...                   NaN   \n",
       "5   EX_btn(e), EX_thm(e), EX_fol(e), EX_ribflv(e),...                   NaN   \n",
       "6   EX_btn(e), EX_thm(e), EX_fol(e), EX_ribflv(e),...                   NaN   \n",
       "7   EX_btn(e), EX_thm(e), EX_fol(e), EX_ribflv(e),...                   NaN   \n",
       "8   EX_btn(e), EX_thm(e), EX_fol(e), EX_ribflv(e),...                   NaN   \n",
       "9   EX_btn(e), EX_thm(e), EX_fol(e), EX_ribflv(e),...                   NaN   \n",
       "10  EX_btn(e), EX_thm(e), EX_fol(e), EX_ribflv(e),...                   NaN   \n",
       "11  EX_btn(e), EX_thm(e), EX_fol(e), EX_ribflv(e),...                   NaN   \n",
       "12  EX_btn(e), EX_thm(e), EX_fol(e), EX_ribflv(e),...                   NaN   \n",
       "13  EX_btn(e), EX_thm(e), EX_fol(e), EX_ribflv(e),...                   NaN   \n",
       "14  EX_btn(e), EX_thm(e), EX_fol(e), EX_ribflv(e),...                   NaN   \n",
       "\n",
       "    carbon_yield_minimum  flux_maximum  flux_minimum  mass_yield_maximum  \\\n",
       "0                    0.0      0.157355           0.0                 NaN   \n",
       "1                    0.0      0.091100           0.0                 NaN   \n",
       "2                    0.0      0.024846           0.0                 NaN   \n",
       "3                    NaN           NaN           NaN                 NaN   \n",
       "4                    NaN           NaN           NaN                 NaN   \n",
       "5                    NaN           NaN           NaN                 NaN   \n",
       "6                    NaN           NaN           NaN                 NaN   \n",
       "7                    NaN           NaN           NaN                 NaN   \n",
       "8                    NaN           NaN           NaN                 NaN   \n",
       "9                    NaN           NaN           NaN                 NaN   \n",
       "10                   NaN           NaN           NaN                 NaN   \n",
       "11                   NaN           NaN           NaN                 NaN   \n",
       "12                   NaN           NaN           NaN                 NaN   \n",
       "13                   NaN           NaN           NaN                 NaN   \n",
       "14                   NaN           NaN           NaN                 NaN   \n",
       "\n",
       "    mass_yield_minimum  EX_co2(e)    EX_h2(e)  \n",
       "0                  NaN      -50.0 -100.000000  \n",
       "1                  NaN      -50.0  -94.863158  \n",
       "2                  NaN      -50.0  -89.726316  \n",
       "3                  NaN      -50.0  -84.589474  \n",
       "4                  NaN      -50.0  -79.452632  \n",
       "5                  NaN      -50.0  -74.315789  \n",
       "6                  NaN      -50.0  -69.178947  \n",
       "7                  NaN      -50.0  -64.042105  \n",
       "8                  NaN      -50.0  -58.905263  \n",
       "9                  NaN      -50.0  -53.768421  \n",
       "10                 NaN      -50.0  -48.631579  \n",
       "11                 NaN      -50.0  -43.494737  \n",
       "12                 NaN      -50.0  -38.357895  \n",
       "13                 NaN      -50.0  -33.221053  \n",
       "14                 NaN      -50.0  -28.084211  "
      ]
     },
     "execution_count": 7,
     "metadata": {},
     "output_type": "execute_result"
    }
   ],
   "source": [
    "%matplotlib inline\n",
    "from cobra.flux_analysis import production_envelope\n",
    "prod_env = production_envelope(model, [\"EX_co2(e)\", \"EX_h2(e)\"])\n",
    "prod_env.head(15)"
   ]
  },
  {
   "cell_type": "code",
   "execution_count": 8,
   "metadata": {},
   "outputs": [
    {
     "data": {
      "text/html": [
       "<div>\n",
       "<style scoped>\n",
       "    .dataframe tbody tr th:only-of-type {\n",
       "        vertical-align: middle;\n",
       "    }\n",
       "\n",
       "    .dataframe tbody tr th {\n",
       "        vertical-align: top;\n",
       "    }\n",
       "\n",
       "    .dataframe thead th {\n",
       "        text-align: right;\n",
       "    }\n",
       "</style>\n",
       "<table border=\"1\" class=\"dataframe\">\n",
       "  <thead>\n",
       "    <tr style=\"text-align: right;\">\n",
       "      <th></th>\n",
       "      <th>carbon_source</th>\n",
       "      <th>carbon_yield_maximum</th>\n",
       "      <th>carbon_yield_minimum</th>\n",
       "      <th>flux_maximum</th>\n",
       "      <th>flux_minimum</th>\n",
       "      <th>mass_yield_maximum</th>\n",
       "      <th>mass_yield_minimum</th>\n",
       "      <th>EX_h2(e)</th>\n",
       "    </tr>\n",
       "  </thead>\n",
       "  <tbody>\n",
       "    <tr>\n",
       "      <th>0</th>\n",
       "      <td>EX_co2(e)</td>\n",
       "      <td>1.976717</td>\n",
       "      <td>2.487820e-15</td>\n",
       "      <td>0.188562</td>\n",
       "      <td>0.0</td>\n",
       "      <td>NaN</td>\n",
       "      <td>NaN</td>\n",
       "      <td>-100.000000</td>\n",
       "    </tr>\n",
       "    <tr>\n",
       "      <th>1</th>\n",
       "      <td>EX_co2(e)</td>\n",
       "      <td>1.974011</td>\n",
       "      <td>3.427075e-15</td>\n",
       "      <td>0.178637</td>\n",
       "      <td>0.0</td>\n",
       "      <td>NaN</td>\n",
       "      <td>NaN</td>\n",
       "      <td>-94.863158</td>\n",
       "    </tr>\n",
       "    <tr>\n",
       "      <th>2</th>\n",
       "      <td>EX_co2(e)</td>\n",
       "      <td>1.970994</td>\n",
       "      <td>1.537445e-15</td>\n",
       "      <td>0.168713</td>\n",
       "      <td>0.0</td>\n",
       "      <td>NaN</td>\n",
       "      <td>NaN</td>\n",
       "      <td>-89.726316</td>\n",
       "    </tr>\n",
       "    <tr>\n",
       "      <th>3</th>\n",
       "      <td>EX_co2(e)</td>\n",
       "      <td>1.967611</td>\n",
       "      <td>4.962234e-17</td>\n",
       "      <td>0.158789</td>\n",
       "      <td>0.0</td>\n",
       "      <td>NaN</td>\n",
       "      <td>NaN</td>\n",
       "      <td>-84.589474</td>\n",
       "    </tr>\n",
       "    <tr>\n",
       "      <th>4</th>\n",
       "      <td>EX_co2(e)</td>\n",
       "      <td>1.963792</td>\n",
       "      <td>1.962796e-16</td>\n",
       "      <td>0.148864</td>\n",
       "      <td>0.0</td>\n",
       "      <td>NaN</td>\n",
       "      <td>NaN</td>\n",
       "      <td>-79.452632</td>\n",
       "    </tr>\n",
       "  </tbody>\n",
       "</table>\n",
       "</div>"
      ],
      "text/plain": [
       "  carbon_source  carbon_yield_maximum  carbon_yield_minimum  flux_maximum  \\\n",
       "0     EX_co2(e)              1.976717          2.487820e-15      0.188562   \n",
       "1     EX_co2(e)              1.974011          3.427075e-15      0.178637   \n",
       "2     EX_co2(e)              1.970994          1.537445e-15      0.168713   \n",
       "3     EX_co2(e)              1.967611          4.962234e-17      0.158789   \n",
       "4     EX_co2(e)              1.963792          1.962796e-16      0.148864   \n",
       "\n",
       "   flux_minimum  mass_yield_maximum  mass_yield_minimum    EX_h2(e)  \n",
       "0           0.0                 NaN                 NaN -100.000000  \n",
       "1           0.0                 NaN                 NaN  -94.863158  \n",
       "2           0.0                 NaN                 NaN  -89.726316  \n",
       "3           0.0                 NaN                 NaN  -84.589474  \n",
       "4           0.0                 NaN                 NaN  -79.452632  "
      ]
     },
     "execution_count": 8,
     "metadata": {},
     "output_type": "execute_result"
    }
   ],
   "source": [
    "prod_env = production_envelope( model, [\"EX_h2(e)\"],  carbon_sources=\"EX_co2(e)\")\n",
    "prod_env.head()"
   ]
  },
  {
   "cell_type": "code",
   "execution_count": 9,
   "metadata": {},
   "outputs": [
    {
     "data": {
      "text/plain": [
       "<matplotlib.axes._subplots.AxesSubplot at 0x16890208>"
      ]
     },
     "execution_count": 9,
     "metadata": {},
     "output_type": "execute_result"
    },
    {
     "data": {
      "image/png": "[encoded data removed]",
      "text/plain": [
       "<Figure size 432x288 with 1 Axes>"
      ]
     },
     "metadata": {
      "needs_background": "light"
     },
     "output_type": "display_data"
    }
   ],
   "source": [
    "\n",
    "prod_env.plot( kind='line', x='EX_h2(e)', y='flux_maximum')"
   ]
  },
  {
   "cell_type": "code",
   "execution_count": 10,
   "metadata": {},
   "outputs": [
    {
     "name": "stderr",
     "output_type": "stream",
     "text": [
      "cobra\\flux_analysis\\phenotype_phase_plane.py:211 RuntimeWarning: divide by zero encountered in double_scalars\n"
     ]
    },
    {
     "data": {
      "text/plain": [
       "<matplotlib.axes._subplots.AxesSubplot at 0x163f5f28>"
      ]
     },
     "execution_count": 10,
     "metadata": {},
     "output_type": "execute_result"
    },
    {
     "data": {
      "image/png": "[encoded data removed]",
      "text/plain": [
       "<Figure size 432x288 with 1 Axes>"
      ]
     },
     "metadata": {
      "needs_background": "light"
     },
     "output_type": "display_data"
    }
   ],
   "source": [
    "prod_env = production_envelope( model, [\"EX_co2(e)\"],  carbon_sources=\"EX_h2(e)\")\n",
    "prod_env.head() \n",
    "prod_env.plot( kind='line', x=\"EX_co2(e)\", y='flux_maximum')"
   ]
  },
  {
   "cell_type": "code",
   "execution_count": 11,
   "metadata": {},
   "outputs": [
    {
     "ename": "ImportError",
     "evalue": "cannot import name calculate_phenotype_phase_plane",
     "output_type": "error",
     "traceback": [
      "\u001b[1;31m---------------------------------------------------------------------------\u001b[0m",
      "\u001b[1;31mImportError\u001b[0m                               Traceback (most recent call last)",
      "\u001b[1;32m<ipython-input-11-d3920327b168>\u001b[0m in \u001b[0;36m<module>\u001b[1;34m()\u001b[0m\n\u001b[0;32m      6\u001b[0m \u001b[1;33m\u001b[0m\u001b[0m\n\u001b[0;32m      7\u001b[0m \u001b[1;32mimport\u001b[0m \u001b[0mcobra\u001b[0m\u001b[1;33m.\u001b[0m\u001b[0mtest\u001b[0m\u001b[1;33m\u001b[0m\u001b[0m\n\u001b[1;32m----> 8\u001b[1;33m \u001b[1;32mfrom\u001b[0m \u001b[0mcobra\u001b[0m\u001b[1;33m.\u001b[0m\u001b[0mflux_analysis\u001b[0m \u001b[1;32mimport\u001b[0m \u001b[0mcalculate_phenotype_phase_plane\u001b[0m\u001b[1;33m\u001b[0m\u001b[0m\n\u001b[0m",
      "\u001b[1;31mImportError\u001b[0m: cannot import name calculate_phenotype_phase_plane"
     ]
    }
   ],
   "source": [
    "%matplotlib inline\n",
    "from IPython.display import set_matplotlib_formats\n",
    "set_matplotlib_formats('png', 'pdf')\n",
    "\n",
    "from time import time\n",
    "\n",
    "import cobra.test\n",
    "from cobra.flux_analysis import calculate_phenotype_phase_plane\n"
   ]
  },
  {
   "cell_type": "code",
   "execution_count": 1,
   "metadata": {},
   "outputs": [
    {
     "name": "stdout",
     "output_type": "stream",
     "text": [
      "2.2.4\n"
     ]
    }
   ],
   "source": [
    "import matplotlib\n",
    "print(matplotlib.__version__)"
   ]
  },
  {
   "cell_type": "code",
   "execution_count": null,
   "metadata": {},
   "outputs": [],
   "source": []
  }
 ],
 "metadata": {
  "kernelspec": {
   "display_name": "Python 2",
   "language": "python",
   "name": "python2"
  },
  "language_info": {
   "codemirror_mode": {
    "name": "ipython",
    "version": 2
   },
   "file_extension": ".py",
   "mimetype": "text/x-python",
   "name": "python",
   "nbconvert_exporter": "python",
   "pygments_lexer": "ipython2",
   "version": "2.7.16"
  }
 },
 "nbformat": 4,
 "nbformat_minor": 2
}
