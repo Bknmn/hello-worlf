{
 "cells": [
  {
   "cell_type": "code",
   "execution_count": 1,
   "metadata": {},
   "outputs": [
    {
     "name": "stderr",
     "output_type": "stream",
     "text": [
      "No handlers could be found for logger \"cobra.io.sbml\"\n",
      "cobra\\core\\reaction.py:437 UserWarning: uppercase AND/OR found in rule 'CAC0368 AND CAC1427' for '<Reaction R0095 at 0x18f84b70>'\n"
     ]
    }
   ],
   "source": [
    "import numpy as np\n",
    "from scipy.integrate import odeint\n",
    "import cobra\n",
    "import os\n",
    "from os.path import join\n",
    "data_dir=\".\"\n",
    "model=cobra.io.read_sbml_model(\"iCac802.xml\")\n",
    "import matplotlib.pyplot as plt"
   ]
  },
  {
   "cell_type": "code",
   "execution_count": 2,
   "metadata": {},
   "outputs": [
    {
     "name": "stdout",
     "output_type": "stream",
     "text": [
      "IN FLUXES            OUT FLUXES             OBJECTIVES\n",
      "-------------------  ---------------------  -------------\n",
      "cpd00027_e  10       cpd11640_e  37.5       Biomass  0.21\n",
      "cpd00067_e  10       cpd00011_e  25.6\n",
      "cpd00001_e   4.05    cpd00178_e   8.65\n",
      "cpd00013_e   2.94    cpd00528_e   0.541\n",
      "cpd00009_e   0.373   cpd00036_e   0.000947\n",
      "cpd00048_e   0.0217\n"
     ]
    }
   ],
   "source": [
    "solution = model.optimize()\n",
    "\n",
    "model.summary()"
   ]
  },
  {
   "cell_type": "code",
   "execution_count": 3,
   "metadata": {},
   "outputs": [],
   "source": [
    "def kineticBlock(Glu,But):\n",
    "    # Parameters\n",
    "    vGmax, K_Glu, Ki, Kii,K_NH3= 0.26, 46, 55.6, 67.5, 9\n",
    "    f_But,f_Act, f_Bth, f_Acn, F_H2 = .424, .908, .977, .908, 0.098\n",
    "    \n",
    "    v_Glu=vGmax*Glu/(K_Glu+(Glu/Ki)+Glu*(1+(Bth/Kii)))\n",
    "    v_NH3=vGmax*NH3/(K_NH3+NH3)\n",
    "    LB_But = -v_Glu*f_But\n",
    "    LB_Act = -v_Glu*f_Act\n",
    "    LB_Bth = -v_Glu*f_Bth\n",
    "    LB_Acn = -v_Glu*f_Acn\n",
    "    LB_H2 = -v_Glu*F_H2\n",
    "    #LB_ATP_Ex = m_ATP\n",
    "    return [v_Glu,v_NH3,LB_But,LB_Act,LB_Bth,LB_Acn,LB_H2]\n",
    "\n",
    "# Metabolic block\n",
    "def metabolicBlock(v_Glu,v_NH3,LB_But,LB_Act,LB_Bth,LB_Acn,LB_H2):\n",
    "    model.reactions.get_by_id(\"Ex_91\").lower_bound = -v_Glu # set flux of glucose\n",
    "    model.reactions.get_by_id(\"Ex_91\").upper_bound = -v_Glu # set flux of glucose\n",
    "    model.reactions.get_by_id(\"Ex_15\").lower_bound = -v_NH3 # set flux of glucose\n",
    "    model.reactions.get_by_id(\"Ex_15\").upper_bound = -v_NH3 # set flux of glucose\n",
    "    model.reactions.get_by_id(\"Ex_96\").lower_bound   = LB_But #Butirato\n",
    "    model.reactions.get_by_id(\"Ex_104\").lower_bound   = LB_Act #acetato\n",
    "    model.reactions.get_by_id(\"Ex_113\").lower_bound    = LB_Bth #Butanol\n",
    "    model.reactions.get_by_id(\"Ex_110\").lower_bound = LB_Acn #Acetona\n",
    "    model.reactions.get_by_id(\"Ex_116\").lower_bound = LB_H2 #Hidrogeno\n",
    "   \n",
    "    solution = model.optimize()\n",
    "    u = solution.objective_value\n",
    "    v_But = model.reactions.get_by_id(\"Ex_96\").x\n",
    "    v_Act = model.reactions.get_by_id(\"Ex_104\").x\n",
    "    v_Bth = model.reactions.get_by_id(\"Ex_113\").x\n",
    "    v_Acn = model.reactions.get_by_id(\"Ex_110\").x\n",
    "    v_H2 = model.reactions.get_by_id(\"Ex_116\").x\n",
    "    return [u, v_But, v_Act, v_Bth, v_Acn, v_H2]\n",
    "    \n",
    "# Dynamic block\n",
    "def f(y,t,params):\n",
    "    V,VX,VGlu,VNH3,VBut,VAct,VBth,VAcn,VH2 = y # Current values\n",
    "    F,u, v_Glu,v_NH3, v_But, v_Act, v_Bth, v_Acn, v_H2 = params  # unpack parameters\n",
    "    Glu_F = 8\n",
    "    NH3_F =3\n",
    "    MW_Glu, MW_NH3,MW_But,MW_Act,MW_Bth,MW_Acn, MW_H2 = [0.18,0.17,.046,.060,.72,.090, 0.002] #Molecular weights\n",
    "    derivs=[F,                  # dV/dt\n",
    "            u*VX,                # dVX/dt\n",
    "            F*Glu_F-v_Glu*MW_Glu*(VX), # dVGlu/dt\n",
    "            F*NH3_F-v_NH3*MW_Glu*(VX), # dVNH3/dt\n",
    "            v_But*MW_But*(VX), # dVBut/dt\n",
    "            v_Act*MW_Act*(VX), # dVAct/dt\n",
    "            v_Bth*MW_Bth*(VX), # dVBth/dt\n",
    "            v_Acn*MW_Acn*(VX), # dVAcn/dt\n",
    "            v_H2*MW_H2*(VX)] # dVH2/dt\n",
    "    return derivs\n",
    "def dynamicBlock(y,params, ti,tf):\n",
    "    time=np.linspace(ti,tf,100)\n",
    " \n",
    "    soln = odeint(f,y,time,args=(params,))\n",
    "    \n",
    "    V=soln[-1,0]\n",
    "    X,Glu,NH3,But,Act,Bth,Acn,H2=soln[-1,1:9]/V\n",
    "    return [V,X,Glu,NH3,But,Act,Bth,Acn,H2]    \n",
    "\n",
    "\n",
    "\n",
    "u_path,V_path,X_path = [],[],[]\n",
    "Glu_path,NH3_path,But_path,Act_path,Bth_path,Acn_path,H2_path = [],[],[],[],[],[],[]\n",
    "v_Glu_path,v_NH3_path=[],[]\n",
    "def savePath(u,V,X,Glu,But,Act,Bth,Acn,H2,v_Glu,v_NH3):\n",
    "    global u_path,V_path,X_path\n",
    "    global Glu_path,But_path,Act_path,Bth_path,Acn_path,H2_path\n",
    "    global v_Glu_path,v_NH3_path\n",
    "    u_path += [u]\n",
    "    V_path += [V]\n",
    "    X_path += [X]\n",
    "    Glu_path += [Glu]\n",
    "    But_path += [But]\n",
    "    Act_path += [Act]\n",
    "    Bth_path += [Bth]\n",
    "    Acn_path += [Acn]\n",
    "    H2_path += [H2]\n",
    "    v_Glu_path += [v_Glu]\n",
    "    v_NH3_path += [v_Glu]"
   ]
  },
  {
   "cell_type": "code",
   "execution_count": 4,
   "metadata": {},
   "outputs": [
    {
     "name": "stderr",
     "output_type": "stream",
     "text": [
      "cobra\\util\\solver.py:416 UserWarning: solver status is 'infeasible'\n"
     ]
    }
   ],
   "source": [
    "Glu=60\n",
    "NH3=100\n",
    "But,Act,Bth,Acn,H2=[0,0,0,0,0]\n",
    "V,X=[2,1.5]\n",
    "F=0\n",
    "# Running the simulation over time\n",
    "time=np.linspace(0,50,50)\n",
    "for i in range(len(time)):\n",
    "    \n",
    "    v_Glu,v_NH3,LB_But,LB_Act,LB_Bth,LB_Acn,LB_H2 = kineticBlock(Glu,But)\n",
    "\n",
    "    u,v_But, v_Act, v_Bth, v_Acn, v_H2 = metabolicBlock(v_Glu,v_NH3,LB_But,LB_Act,LB_Bth,LB_Acn,LB_H2)\n",
    " \n",
    "    if i==len(time)-1: continue\n",
    "    y = [V,X*V,Glu*V,NH3*V,But*V,Act*V,Bth*V,Acn*V,H2*V]\n",
    "    params = [F,u,v_Glu,v_NH3, v_But, v_Act, v_Bth, v_Acn,v_H2]\n",
    "    V,X,Glu,NH3,But,Act,Bth,Acn,H2 = dynamicBlock(y, params, time[i],time[i+1])\n",
    "    # Save results along the fermentaion path\n",
    "    savePath(u,V,X,Glu,NH3,But,Act,Bth,Acn,H2,v_Glu)"
   ]
  },
  {
   "cell_type": "code",
   "execution_count": 5,
   "metadata": {
    "scrolled": true
   },
   "outputs": [
    {
     "data": {
      "image/png": "[encoded data removed]",
      "text/plain": [
       "<Figure size 432x288 with 1 Axes>"
      ]
     },
     "metadata": {
      "needs_background": "light"
     },
     "output_type": "display_data"
    }
   ],
   "source": [
    "plt.plot(time[1:600],Glu_path,'r',linewidth=2,label='Glucosa')\n",
    "plt.plot(time[1:600],X_path,'b',linewidth=2,label='Biomasa')\n",
    "plt.plot(time[1:600],But_path,'g',linewidth=2,label=\"Butirato\")\n",
    "plt.plot(time[1:600],Act_path,'y',linewidth=2,label='Acetato')\n",
    "plt.plot(time[1:600],Bth_path,'x',linewidth=2,label='Butanol')\n",
    "plt.plot(time[1:600],Acn_path,'p',linewidth=2,label='Acetona')\n",
    "plt.plot(time[1:600],H2_path,'c',linewidth=2,label='H2')\n",
    "plt.legend()\n",
    "plt.ylabel('Biomasa, Glucosa & Productos[g/L]')\n",
    "plt.xlabel('Time [h]')\n",
    "plt.show()"
   ]
  },
  {
   "cell_type": "code",
   "execution_count": 6,
   "metadata": {},
   "outputs": [
    {
     "ename": "Infeasible",
     "evalue": "None (infeasible)",
     "output_type": "error",
     "traceback": [
      "\u001b[1;31m---------------------------------------------------------------------------\u001b[0m",
      "\u001b[1;31mInfeasible\u001b[0m                                Traceback (most recent call last)",
      "\u001b[1;32m<ipython-input-6-021a9c0c2cca>\u001b[0m in \u001b[0;36m<module>\u001b[1;34m()\u001b[0m\n\u001b[0;32m      1\u001b[0m \u001b[0msolution\u001b[0m \u001b[1;33m=\u001b[0m \u001b[0mmodel\u001b[0m\u001b[1;33m.\u001b[0m\u001b[0moptimize\u001b[0m\u001b[1;33m(\u001b[0m\u001b[1;33m)\u001b[0m\u001b[1;33m\u001b[0m\u001b[0m\n\u001b[0;32m      2\u001b[0m \u001b[1;33m\u001b[0m\u001b[0m\n\u001b[1;32m----> 3\u001b[1;33m \u001b[0mmodel\u001b[0m\u001b[1;33m.\u001b[0m\u001b[0msummary\u001b[0m\u001b[1;33m(\u001b[0m\u001b[1;33m)\u001b[0m\u001b[1;33m\u001b[0m\u001b[0m\n\u001b[0m",
      "\u001b[1;32mc:\\python27\\lib\\site-packages\\cobra\\core\\model.pyc\u001b[0m in \u001b[0;36msummary\u001b[1;34m(self, solution, threshold, fva, names, floatfmt)\u001b[0m\n\u001b[0;32m   1200\u001b[0m         \u001b[1;32mfrom\u001b[0m \u001b[0mcobra\u001b[0m\u001b[1;33m.\u001b[0m\u001b[0mflux_analysis\u001b[0m\u001b[1;33m.\u001b[0m\u001b[0msummary\u001b[0m \u001b[1;32mimport\u001b[0m \u001b[0mmodel_summary\u001b[0m\u001b[1;33m\u001b[0m\u001b[0m\n\u001b[0;32m   1201\u001b[0m         return model_summary(self, solution=solution, threshold=threshold,\n\u001b[1;32m-> 1202\u001b[1;33m                              fva=fva, names=names, floatfmt=floatfmt)\n\u001b[0m\u001b[0;32m   1203\u001b[0m \u001b[1;33m\u001b[0m\u001b[0m\n\u001b[0;32m   1204\u001b[0m     \u001b[1;32mdef\u001b[0m \u001b[0m__enter__\u001b[0m\u001b[1;33m(\u001b[0m\u001b[0mself\u001b[0m\u001b[1;33m)\u001b[0m\u001b[1;33m:\u001b[0m\u001b[1;33m\u001b[0m\u001b[0m\n",
      "\u001b[1;32mc:\\python27\\lib\\site-packages\\cobra\\flux_analysis\\summary.pyc\u001b[0m in \u001b[0;36mmodel_summary\u001b[1;34m(model, solution, threshold, fva, names, floatfmt)\u001b[0m\n\u001b[0;32m    182\u001b[0m \u001b[1;33m\u001b[0m\u001b[0m\n\u001b[0;32m    183\u001b[0m     \u001b[1;32mif\u001b[0m \u001b[0msolution\u001b[0m \u001b[1;32mis\u001b[0m \u001b[0mNone\u001b[0m\u001b[1;33m:\u001b[0m\u001b[1;33m\u001b[0m\u001b[0m\n\u001b[1;32m--> 184\u001b[1;33m         \u001b[0mmodel\u001b[0m\u001b[1;33m.\u001b[0m\u001b[0mslim_optimize\u001b[0m\u001b[1;33m(\u001b[0m\u001b[0merror_value\u001b[0m\u001b[1;33m=\u001b[0m\u001b[0mNone\u001b[0m\u001b[1;33m)\u001b[0m\u001b[1;33m\u001b[0m\u001b[0m\n\u001b[0m\u001b[0;32m    185\u001b[0m         \u001b[0msolution\u001b[0m \u001b[1;33m=\u001b[0m \u001b[0mget_solution\u001b[0m\u001b[1;33m(\u001b[0m\u001b[0mmodel\u001b[0m\u001b[1;33m,\u001b[0m \u001b[0mreactions\u001b[0m\u001b[1;33m=\u001b[0m\u001b[0msummary_rxns\u001b[0m\u001b[1;33m)\u001b[0m\u001b[1;33m\u001b[0m\u001b[0m\n\u001b[0;32m    186\u001b[0m \u001b[1;33m\u001b[0m\u001b[0m\n",
      "\u001b[1;32mc:\\python27\\lib\\site-packages\\cobra\\core\\model.pyc\u001b[0m in \u001b[0;36mslim_optimize\u001b[1;34m(self, error_value, message)\u001b[0m\n\u001b[0;32m   1051\u001b[0m             \u001b[1;32mreturn\u001b[0m \u001b[0merror_value\u001b[0m\u001b[1;33m\u001b[0m\u001b[0m\n\u001b[0;32m   1052\u001b[0m         \u001b[1;32melse\u001b[0m\u001b[1;33m:\u001b[0m\u001b[1;33m\u001b[0m\u001b[0m\n\u001b[1;32m-> 1053\u001b[1;33m             \u001b[0massert_optimal\u001b[0m\u001b[1;33m(\u001b[0m\u001b[0mself\u001b[0m\u001b[1;33m,\u001b[0m \u001b[0mmessage\u001b[0m\u001b[1;33m)\u001b[0m\u001b[1;33m\u001b[0m\u001b[0m\n\u001b[0m\u001b[0;32m   1054\u001b[0m \u001b[1;33m\u001b[0m\u001b[0m\n\u001b[0;32m   1055\u001b[0m     \u001b[1;32mdef\u001b[0m \u001b[0moptimize\u001b[0m\u001b[1;33m(\u001b[0m\u001b[0mself\u001b[0m\u001b[1;33m,\u001b[0m \u001b[0mobjective_sense\u001b[0m\u001b[1;33m=\u001b[0m\u001b[0mNone\u001b[0m\u001b[1;33m,\u001b[0m \u001b[0mraise_error\u001b[0m\u001b[1;33m=\u001b[0m\u001b[0mFalse\u001b[0m\u001b[1;33m)\u001b[0m\u001b[1;33m:\u001b[0m\u001b[1;33m\u001b[0m\u001b[0m\n",
      "\u001b[1;32mc:\\python27\\lib\\site-packages\\cobra\\util\\solver.pyc\u001b[0m in \u001b[0;36massert_optimal\u001b[1;34m(model, message)\u001b[0m\n\u001b[0;32m    439\u001b[0m         exception_cls = OPTLANG_TO_EXCEPTIONS_DICT.get(\n\u001b[0;32m    440\u001b[0m             status, OptimizationError)\n\u001b[1;32m--> 441\u001b[1;33m         \u001b[1;32mraise\u001b[0m \u001b[0mexception_cls\u001b[0m\u001b[1;33m(\u001b[0m\u001b[1;34m\"{} ({})\"\u001b[0m\u001b[1;33m.\u001b[0m\u001b[0mformat\u001b[0m\u001b[1;33m(\u001b[0m\u001b[0mmessage\u001b[0m\u001b[1;33m,\u001b[0m \u001b[0mstatus\u001b[0m\u001b[1;33m)\u001b[0m\u001b[1;33m)\u001b[0m\u001b[1;33m\u001b[0m\u001b[0m\n\u001b[0m\u001b[0;32m    442\u001b[0m \u001b[1;33m\u001b[0m\u001b[0m\n\u001b[0;32m    443\u001b[0m \u001b[1;33m\u001b[0m\u001b[0m\n",
      "\u001b[1;31mInfeasible\u001b[0m: None (infeasible)"
     ]
    }
   ],
   "source": [
    "solution = model.optimize()\n",
    "\n",
    "model.summary()"
   ]
  },
  {
   "cell_type": "code",
   "execution_count": null,
   "metadata": {},
   "outputs": [],
   "source": []
  }
 ],
 "metadata": {
  "kernelspec": {
   "display_name": "Python 2",
   "language": "python",
   "name": "python2"
  },
  "language_info": {
   "codemirror_mode": {
    "name": "ipython",
    "version": 2
   },
   "file_extension": ".py",
   "mimetype": "text/x-python",
   "name": "python",
   "nbconvert_exporter": "python",
   "pygments_lexer": "ipython2",
   "version": "2.7.16"
  }
 },
 "nbformat": 4,
 "nbformat_minor": 2
}
