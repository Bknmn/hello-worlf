{
 "cells": [
  {
   "cell_type": "code",
   "execution_count": 1,
   "metadata": {},
   "outputs": [
    {
     "name": "stderr",
     "output_type": "stream",
     "text": [
      "No handlers could be found for logger \"cobra.io.sbml\"\n",
      "cobra\\core\\reaction.py:437 UserWarning: uppercase AND/OR found in rule 'CAC0368 AND CAC1427' for '<Reaction R0095 at 0x18634b70>'\n"
     ]
    }
   ],
   "source": [
    "import numpy as np\n",
    "from scipy.integrate import odeint\n",
    "import cobra\n",
    "import os\n",
    "from os.path import join\n",
    "data_dir=\".\"\n",
    "model=cobra.io.read_sbml_model(\"iCac802.xml\")\n",
    "import matplotlib.pyplot as plt"
   ]
  },
  {
   "cell_type": "code",
   "execution_count": 2,
   "metadata": {},
   "outputs": [
    {
     "name": "stdout",
     "output_type": "stream",
     "text": [
      "IN FLUXES            OUT FLUXES             OBJECTIVES\n",
      "-------------------  ---------------------  -------------\n",
      "cpd00027_e  10       cpd11640_e  37.5       Biomass  0.21\n",
      "cpd00067_e  10       cpd00011_e  25.6\n",
      "cpd00001_e   4.05    cpd00178_e   8.65\n",
      "cpd00013_e   2.94    cpd00528_e   0.541\n",
      "cpd00009_e   0.373   cpd00036_e   0.000947\n",
      "cpd00048_e   0.0217\n"
     ]
    }
   ],
   "source": [
    "solution = model.optimize()\n",
    "\n",
    "model.summary()"
   ]
  },
  {
   "cell_type": "code",
   "execution_count": 3,
   "metadata": {},
   "outputs": [],
   "source": [
    "def kineticBlock(Glu,But):\n",
    "    # Parameters\n",
    "    vGmax, K_Glu, Ki, Kii = 0.26, 46, 55.6, 67.5\n",
    "    f_But,f_Act, f_Bth, f_Acn, F_H2 = .424, .908, .977, .908, 0.098\n",
    "    \n",
    "    v_Glu=vGmax*Glu/(K_Glu+(Glu/Ki)+Glu*(1+(Bth/Kii)))\n",
    "    LB_But = -v_Glu*f_But\n",
    "    LB_Act = -v_Glu*f_Act\n",
    "    LB_Bth = -v_Glu*f_Bth\n",
    "    LB_Acn = -v_Glu*f_Acn\n",
    "    LB_H2 = -v_Glu*F_H2\n",
    "    #LB_ATP_Ex = m_ATP\n",
    "    return [v_Glu,LB_But,LB_Act,LB_Bth,LB_Acn,LB_H2]\n",
    "\n",
    "# Metabolic block\n",
    "def metabolicBlock(v_Glu,LB_But,LB_Act,LB_Bth,LB_Acn,LB_H2):\n",
    "    model.reactions.get_by_id(\"Ex_91\").lower_bound = -v_Glu # set flux of glucose\n",
    "    model.reactions.get_by_id(\"Ex_91\").upper_bound = -v_Glu # set flux of glucose\n",
    "    model.reactions.get_by_id(\"Ex_96\").lower_bound   = LB_But #Butirato\n",
    "    model.reactions.get_by_id(\"Ex_104\").lower_bound   = LB_Act #acetato\n",
    "    model.reactions.get_by_id(\"Ex_113\").lower_bound    = LB_Bth #Butanol\n",
    "    model.reactions.get_by_id(\"Ex_110\").lower_bound = LB_Acn #Acetona\n",
    "    model.reactions.get_by_id(\"Ex_116\").lower_bound = LB_H2 #Hidrogeno\n",
    "   \n",
    "    solution = model.optimize()\n",
    "    u = solution.objective_value\n",
    "    v_But = model.reactions.get_by_id(\"Ex_96\").x\n",
    "    v_Act = model.reactions.get_by_id(\"Ex_104\").x\n",
    "    v_Bth = model.reactions.get_by_id(\"Ex_113\").x\n",
    "    v_Acn = model.reactions.get_by_id(\"Ex_110\").x\n",
    "    v_H2 = model.reactions.get_by_id(\"Ex_116\").x\n",
    "    return [u, v_But, v_Act, v_Bth, v_Acn, v_H2]\n",
    "    \n",
    "# Dynamic block\n",
    "def f(y,t,params):\n",
    "    V,VX,VGlu,VBut,VAct,VBth,VAcn,VH2 = y # Current values\n",
    "    F,u, v_Glu, v_But, v_Act, v_Bth, v_Acn, v_H2 = params  # unpack parameters\n",
    "    Glu_F = 8\n",
    "    MW_Glu,MW_But,MW_Act,MW_Bth,MW_Acn, MW_H2 = [0.18,.046,.060,.72,.090, 0.002] #Molecular weights\n",
    "    derivs=[F,                  # dV/dt\n",
    "            u*VX,                # dVX/dt\n",
    "            F*Glu_F-v_Glu*MW_Glu*(VX), # dVGlu/dt\n",
    "            v_But*MW_But*(VX), # dVBut/dt\n",
    "            v_Act*MW_Act*(VX), # dVAct/dt\n",
    "            v_Bth*MW_Bth*(VX), # dVBth/dt\n",
    "            v_Acn*MW_Acn*(VX), # dVAcn/dt\n",
    "            v_H2*MW_H2*(VX)] # dVH2/dt\n",
    "    return derivs\n",
    "def dynamicBlock(y,params, ti,tf):\n",
    "    time=np.linspace(ti,tf,100)\n",
    " \n",
    "    soln = odeint(f,y,time,args=(params,))\n",
    "    \n",
    "    V=soln[-1,0]\n",
    "    X,Glu,But,Act,Bth,Acn,H2=soln[-1,1:8]/V\n",
    "    return [V,X,Glu,But,Act,Bth,Acn,H2]    \n",
    "\n",
    "\n",
    "\n",
    "u_path,V_path,X_path = [],[],[]\n",
    "Glu_path,But_path,Act_path,Bth_path,Acn_path,H2_path = [],[],[],[],[],[]\n",
    "v_Glu_path=[]\n",
    "def savePath(u,V,X,Glu,But,Act,Bth,Acn,H2,v_Glu):\n",
    "    global u_path,V_path,X_path\n",
    "    global Glu_path,But_path,Act_path,Bth_path,Acn_path,H2_path\n",
    "    global v_Glu_path\n",
    "    u_path += [u]\n",
    "    V_path += [V]\n",
    "    X_path += [X]\n",
    "    Glu_path += [Glu]\n",
    "    But_path += [But]\n",
    "    Act_path += [Act]\n",
    "    Bth_path += [Bth]\n",
    "    Acn_path += [Acn]\n",
    "    H2_path += [H2]\n",
    "    v_Glu_path += [v_Glu]"
   ]
  },
  {
   "cell_type": "code",
   "execution_count": 4,
   "metadata": {},
   "outputs": [],
   "source": [
    "Glu=60\n",
    "But,Act,Bth,Acn,H2=[0,0,0,0,0]\n",
    "V,X=[2,1.5]\n",
    "F=0\n",
    "# Running the simulation over time\n",
    "time=np.linspace(0,300,50)\n",
    "for i in range(len(time)):\n",
    "    \n",
    "    v_Glu,LB_But,LB_Act,LB_Bth,LB_Acn,LB_H2 = kineticBlock(Glu,But)\n",
    "\n",
    "    u,v_But, v_Act, v_Bth, v_Acn, v_H2 = metabolicBlock(v_Glu,LB_But,LB_Act,LB_Bth,LB_Acn,LB_H2)\n",
    " \n",
    "    if i==len(time)-1: continue\n",
    "    y = [V,X*V,Glu*V,But*V,Act*V,Bth*V,Acn*V,H2*V]\n",
    "    params = [F,u,v_Glu, v_But, v_Act, v_Bth, v_Acn,v_H2]\n",
    "    V,X,Glu,But,Act,Bth,Acn,H2 = dynamicBlock(y, params, time[i],time[i+1])\n",
    "    # Save results along the fermentaion path\n",
    "    savePath(u,V,X,Glu,But,Act,Bth,Acn,H2,v_Glu)"
   ]
  },
  {
   "cell_type": "code",
   "execution_count": 5,
   "metadata": {
    "scrolled": true
   },
   "outputs": [
    {
     "data": {
      "image/png": "[encoded data removed]",
      "text/plain": [
       "<Figure size 432x288 with 1 Axes>"
      ]
     },
     "metadata": {
      "needs_background": "light"
     },
     "output_type": "display_data"
    }
   ],
   "source": [
    "plt.plot(time[1:600],Glu_path,'r',linewidth=2,label='Glucosa')\n",
    "plt.plot(time[1:600],X_path,'b',linewidth=2,label='Biomasa')\n",
    "plt.plot(time[1:600],But_path,'g',linewidth=2,label=\"Butirato\")\n",
    "plt.plot(time[1:600],Act_path,'y',linewidth=2,label='Acetato')\n",
    "plt.plot(time[1:600],Bth_path,'x',linewidth=2,label='Butanol')\n",
    "plt.plot(time[1:600],Acn_path,'p',linewidth=2,label='Acetona')\n",
    "plt.plot(time[1:600],H2_path,'c',linewidth=2,label='H2')\n",
    "plt.legend()\n",
    "plt.ylabel('Biomasa, Glucosa & Productos[g/L]')\n",
    "plt.xlabel('Time [h]')\n",
    "plt.show()"
   ]
  },
  {
   "cell_type": "code",
   "execution_count": 6,
   "metadata": {},
   "outputs": [
    {
     "name": "stdout",
     "output_type": "stream",
     "text": [
      "IN FLUXES           OUT FLUXES         OBJECTIVES\n",
      "------------------  -----------------  -----------------\n",
      "cpd00067_e  10      cpd11640_e  5.14   Biomass  1.37e-06\n",
      "cpd00013_e   0.959  cpd00001_e  1.78\n",
      "                    cpd00528_e  0.479\n"
     ]
    }
   ],
   "source": [
    "solution = model.optimize()\n",
    "\n",
    "model.summary()"
   ]
  },
  {
   "cell_type": "code",
   "execution_count": 7,
   "metadata": {
    "scrolled": true
   },
   "outputs": [
    {
     "name": "stdout",
     "output_type": "stream",
     "text": [
      "[[59.740357717087505, 59.439731589634945, 59.091867595854595, 58.689633628000934, 58.22492389510507, 57.68856364807464, 57.07021950375741, 56.35832311593002, 55.54001927232676, 54.60115389955548, 53.526323171469045, 52.29901216728238, 50.90186045854056, 49.31710255318547, 47.52724277784045, 45.516035567517676, 43.269850352873014, 40.779499789953675, 38.04259134760224, 35.066409629804795, 31.871227178824082, 28.49374559014586, 24.99006060295239, 21.43712993219513, 17.931296968510846, 14.582260345709944, 11.501472623346183, 8.785815555390062, 6.500385432947664, 4.666717234231244, 3.262026406253419, 2.2300741083526563, 1.4982874558080106, 0.993685773025499, 0.6529658239035667, 0.4263406539739589, 0.27717047555013613, 0.1796754837183137, 0.11625426847155251, 0.07512628393803977, 0.04850936077456759, 0.03130636596139042, 0.02019729272814731, 0.013027434919952608, 0.00840162860674283, 0.005417869729994442, 0.003493559628878682, 0.0022526376006020005, 0.0014524590587622274]]\n"
     ]
    }
   ],
   "source": [
    "print[Glu_path]"
   ]
  },
  {
   "cell_type": "code",
   "execution_count": 8,
   "metadata": {},
   "outputs": [
    {
     "data": {
      "text/plain": [
       "0.00807479921655957"
      ]
     },
     "execution_count": 8,
     "metadata": {},
     "output_type": "execute_result"
    }
   ],
   "source": [
    "0.00807479921655957"
   ]
  }
 ],
 "metadata": {
  "kernelspec": {
   "display_name": "Python 2",
   "language": "python",
   "name": "python2"
  },
  "language_info": {
   "codemirror_mode": {
    "name": "ipython",
    "version": 2
   },
   "file_extension": ".py",
   "mimetype": "text/x-python",
   "name": "python",
   "nbconvert_exporter": "python",
   "pygments_lexer": "ipython2",
   "version": "2.7.16"
  }
 },
 "nbformat": 4,
 "nbformat_minor": 2
}
